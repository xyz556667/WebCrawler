{
 "cells": [
  {
   "cell_type": "code",
   "execution_count": 4,
   "metadata": {},
   "outputs": [],
   "source": [
    "from selenium import webdriver\n",
    "import time\n"
   ]
  },
  {
   "cell_type": "code",
   "execution_count": 5,
   "metadata": {},
   "outputs": [],
   "source": [
    "ACCTOUNNT = 'xy*****@gmail.com'\n",
    "PASS = 'xyz******' \n",
    "login_site = 'https://ecvip.pchome.com.tw/login/v3/login.htm?rurl=https%3A%2F%2Fecvip.pchome.com.tw%2Fweb%2Fmembercenter%2Faccount'\n",
    "product_site = 'https://24h.pchome.com.tw/cdn/prod/DGBJDE-A900AIH3Z-000?fq=/S/DGBJH2'"
   ]
  },
  {
   "cell_type": "code",
   "execution_count": 6,
   "metadata": {},
   "outputs": [],
   "source": [
    "driver = webdriver.Chrome()\n",
    "driver.get(login_site)\n",
    "acc_input = driver.find_element_by_xpath('//*[@id=\"loginAcc\"]')\n",
    "pwd_input = driver.find_element_by_xpath('//*[@id=\"loginPwd\"]')\n",
    "login_button = driver.find_element_by_xpath('//*[@id=\"btnLogin\"]')\n",
    "\n",
    "acc_input.send_keys(ACCTOUNNT)\n",
    "pwd_input.send_keys(PASS)\n",
    "time.sleep(1)\n",
    "login_button.click()\n",
    "time.sleep(5)\n",
    "    \n",
    "driver.get(product_site)"
   ]
  },
  {
   "cell_type": "code",
   "execution_count": null,
   "metadata": {},
   "outputs": [],
   "source": [
    "while True:\n",
    "    try:\n",
    "        put_into_cart_button = driver.find_element_by_xpath('//*[@id=\"ButtonContainer\"]/button')\n",
    "        if put_into_cart_button.text == '完售，請參考其他商品':\n",
    "            driver.refresh()\n",
    "            continue\n",
    "        else:\n",
    "            put_into_cart_button.click()\n",
    "            break\n",
    "    except:\n",
    "        continue\n",
    "    \n",
    "    \n",
    "while True:\n",
    "    try:\n",
    "        put_into_cart_button = driver.find_element_by_xpath('//*[@id=\"CarInfo\"]/a/span[3]')\n",
    "        put_into_cart_button.click()\n",
    "        break\n",
    "    except:\n",
    "        continue\n",
    "            \n",
    "\n",
    "while True:\n",
    "    try:\n",
    "        put_into_cart_button = driver.find_element_by_xpath('//*[@id=\"payment_other\"]/dd/ul/li[2]/a')\n",
    "        put_into_cart_button.click()\n",
    "        break\n",
    "    except:\n",
    "        continue\n",
    "\n",
    "while True:\n",
    "    try:\n",
    "        put_into_cart_button = driver.find_element_by_xpath('//*[@id=\"warning_btn_confirm\"]')\n",
    "        put_into_cart_button.click()\n",
    "        break\n",
    "    except:\n",
    "        continue\n",
    "\n",
    "while True:\n",
    "    try:\n",
    "        put_into_cart_button = driver.find_element_by_xpath('//*[@id=\"btnSubmit\"]')\n",
    "        put_into_cart_button.click()\n",
    "        break\n",
    "    except:\n",
    "        continue"
   ]
  },
  {
   "cell_type": "code",
   "execution_count": null,
   "metadata": {},
   "outputs": [],
   "source": []
  }
 ],
 "metadata": {
  "kernelspec": {
   "display_name": "Python 3",
   "language": "python",
   "name": "python3"
  },
  "language_info": {
   "codemirror_mode": {
    "name": "ipython",
    "version": 3
   },
   "file_extension": ".py",
   "mimetype": "text/x-python",
   "name": "python",
   "nbconvert_exporter": "python",
   "pygments_lexer": "ipython3",
   "version": "3.6.4"
  }
 },
 "nbformat": 4,
 "nbformat_minor": 2
}
